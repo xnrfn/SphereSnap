{
 "cells": [
  {
   "cell_type": "code",
   "execution_count": null,
   "id": "55a603d4",
   "metadata": {},
   "outputs": [],
   "source": [
    "import os \n",
    "import sys\n",
    "import cv2\n",
    "import numpy as np\n",
    "from matplotlib import pyplot as plt\n",
    "from mpl_toolkits.axes_grid1 import ImageGrid\n",
    "from scipy.spatial.transform import Rotation as R\n",
    "\n",
    "NOTEBOOKS_DIR = os.path.abspath(\"./\")\n",
    "sys.path.append(f\"{NOTEBOOKS_DIR}/..\")\n",
    "%matplotlib inline\n",
    "%reload_ext autoreload\n",
    "%autoreload 2\n",
    "from IPython.core.display import display, HTML\n",
    "display(HTML(\"<style>.container { width:100% !important; }</style>\"))\n",
    "\n",
    "\n",
    "sys.path.append(f\"{NOTEBOOKS_DIR}/..\")\n",
    "\n",
    "import sphere_snap.utils as snap_utils\n",
    "import sphere_snap.sphere_coor_projections as sphere_proj\n",
    "from sphere_snap.snap_config import SnapConfig, ImageProjectionType\n",
    "from sphere_snap.sphere_snap import SphereSnap\n",
    "import sphere_snap.reprojections as rpr\n"
   ]
  },
  {
   "cell_type": "code",
   "execution_count": null,
   "id": "6916cf1f",
   "metadata": {},
   "outputs": [],
   "source": [
    "def show_img(img):\n",
    "    plt.figure(figsize=(13, 13))\n",
    "    plt.imshow(img)\n",
    "    plt.show()\n",
    "\n",
    "def show_imgs(imgs, size = 14, nb_cols=2, title_txt= None, fontsize=10, imgs_text = None):\n",
    "    \"\"\"\n",
    "    Display a gird of images \n",
    "    :param imgs: the list of images to be displayed \n",
    "    :param size: display size of a cell\n",
    "    :param nb_cols: number of columns\n",
    "    \"\"\"\n",
    "\n",
    "    row_size = int(np.ceil(len(imgs)/nb_cols))\n",
    "    fig = plt.figure(figsize=(size,size))\n",
    "    axes_pad = 0.1 if imgs_text is None else 0.5\n",
    "\n",
    "    if title_txt is not None:\n",
    "        fig.suptitle(title_txt, fontsize=fontsize)\n",
    "    grid = ImageGrid(fig, 111,  # similar to subplot(111)\n",
    "                     nrows_ncols=(row_size, nb_cols),  # creates 2x2 grid of axes\n",
    "                     axes_pad=axes_pad,  # pad between axes in inch.\n",
    "                     )\n",
    "\n",
    "    for idx, data in enumerate(zip(grid, imgs)):\n",
    "        ax, img  = data\n",
    "        if imgs_text is not None:\n",
    "             ax.set_title(imgs_text[idx], fontdict={'fontsize': 15, 'fontweight': 'medium'}, loc='center', color = \"k\")\n",
    "        ax.imshow(img)\n",
    "    plt.show()\n",
    "    \n",
    "def rot(yaw, pitch):\n",
    "    return R.from_euler(\"yxz\",[yaw,-pitch,0], degrees=True).as_quat()\n",
    "\n",
    "def blend_img(a, b, alpha=0.8):\n",
    "    return (alpha*a + (1-alpha) * b).astype(np.uint8)"
   ]
  },
  {
   "cell_type": "code",
   "execution_count": null,
   "id": "038894d0",
   "metadata": {},
   "outputs": [],
   "source": [
    "equi_photo = plt.imread(f\"{NOTEBOOKS_DIR}/../data/equirectangular.jpg\")\n",
    "fixed_size = (2000,1000)\n",
    "equi_photo = cv2.resize(equi_photo, fixed_size)\n",
    "half_equi_img = equi_photo[:,500:-500,:]\n",
    "show_imgs([equi_photo], nb_cols=1)"
   ]
  },
  {
   "cell_type": "markdown",
   "id": "92fd4122",
   "metadata": {
    "tags": []
   },
   "source": [
    "### Snap to perspective from equirectangular"
   ]
  },
  {
   "cell_type": "code",
   "execution_count": null,
   "id": "5dba5b4f-1ebb-4a95-8839-6d3288b4f155",
   "metadata": {},
   "outputs": [],
   "source": [
    "snap_config = SnapConfig( rot(-10,-3), (480,853),(125,95), equi_photo.shape[:2], source_img_type=ImageProjectionType.EQUI)\n",
    "snap_test = SphereSnap(snap_config)\n",
    "persp_img = snap_test.snap_to_perspective(equi_photo)\n",
    "show_img(persp_img)"
   ]
  },
  {
   "cell_type": "code",
   "execution_count": null,
   "id": "0905754d-b8a7-4a67-805e-6a3c1f125f56",
   "metadata": {},
   "outputs": [],
   "source": [
    "show_imgs([half_equi_img], nb_cols=1)"
   ]
  },
  {
   "cell_type": "code",
   "execution_count": null,
   "id": "6681bc36",
   "metadata": {},
   "outputs": [],
   "source": [
    "snap_config = SnapConfig( rot(-10,-3), (480,853),(125,95), half_equi_img.shape[:2], source_img_type=ImageProjectionType.HALF_EQUI)\n",
    "snap_test = SphereSnap(snap_config)\n",
    "persp_img = snap_test.snap_to_perspective(half_equi_img)\n",
    "show_img(persp_img)"
   ]
  },
  {
   "cell_type": "code",
   "execution_count": null,
   "id": "da83ad7d-2b62-4f4c-a861-05e7f9f4d8f1",
   "metadata": {},
   "outputs": [],
   "source": [
    "import cv2\n",
    "\n",
    "point = (400,500)\n",
    "half_equi_img = cv2.circle(half_equi_img, point, radius=0, color=(0, 0, 255), thickness=15)\n",
    "show_img(half_equi_img)"
   ]
  },
  {
   "cell_type": "code",
   "execution_count": null,
   "id": "46ed0cb5-081d-4333-a7f4-6842a0d8f6b2",
   "metadata": {},
   "outputs": [],
   "source": [
    "point_spherical = sphere_proj.halfequi_coor2spherical(np.array([point]), half_equi_img.shape[:2])\n",
    "xyz_point = sphere_proj.spherical2xyz(point_spherical)[0]\n",
    "xyz_point"
   ]
  },
  {
   "cell_type": "code",
   "execution_count": null,
   "id": "be0259cb-23c1-4ec0-bd74-0ce32157e4d5",
   "metadata": {},
   "outputs": [],
   "source": []
  },
  {
   "cell_type": "code",
   "execution_count": null,
   "id": "867ea62b-22df-4221-8de1-b7465d74b333",
   "metadata": {},
   "outputs": [],
   "source": [
    "\n",
    "snap_config = SnapConfig.createFromPoint( xyz_point, (480,853),(125,95), half_equi_img.shape[:2], source_img_type=ImageProjectionType.HALF_EQUI)\n",
    "snap_test = SphereSnap(snap_config)\n",
    "persp_img = snap_test.snap_to_perspective(half_equi_img)\n",
    "show_img(persp_img)"
   ]
  },
  {
   "cell_type": "code",
   "execution_count": null,
   "id": "3ec7d769-4423-435d-a988-57257d5de018",
   "metadata": {},
   "outputs": [],
   "source": []
  },
  {
   "cell_type": "markdown",
   "id": "152018ab",
   "metadata": {},
   "source": [
    "### Reproject equirectangular into 6 planar images of 90 degrees FoV (Cubemap)"
   ]
  },
  {
   "cell_type": "code",
   "execution_count": null,
   "id": "42412104-4c6f-4a83-949e-a91f70c850aa",
   "metadata": {},
   "outputs": [],
   "source": [
    "cube_faces_imgs = rpr.equi2cubemap(equi_photo)\n",
    "show_imgs(cube_faces_imgs, nb_cols=6, size=20)"
   ]
  },
  {
   "cell_type": "markdown",
   "id": "a1d121fd",
   "metadata": {},
   "source": [
    "### Reproject a planar image into equirectangular"
   ]
  },
  {
   "cell_type": "code",
   "execution_count": null,
   "id": "18b3db00",
   "metadata": {},
   "outputs": [],
   "source": [
    "reconstructed_equi = rpr.cubemap2hequi(cube_faces_imgs)\n",
    "show_img(reconstructed_equi)\n"
   ]
  },
  {
   "cell_type": "code",
   "execution_count": null,
   "id": "b84f5d31-7c30-467d-8e46-3229ce342dbb",
   "metadata": {},
   "outputs": [],
   "source": [
    "tv_img = rpr.equi2tv(equi_blend, np.identity(3), (1000,1000), (90,90), 10, 2)\n",
    "show_img(tv_img)"
   ]
  },
  {
   "cell_type": "code",
   "execution_count": null,
   "id": "b4b3dee2-c595-48da-ac2f-700e67be9f8b",
   "metadata": {},
   "outputs": [],
   "source": []
  },
  {
   "cell_type": "code",
   "execution_count": null,
   "id": "aa2cff5a-efaf-4d97-b520-e09f51cc1a0d",
   "metadata": {},
   "outputs": [],
   "source": [
    "\n"
   ]
  },
  {
   "cell_type": "code",
   "execution_count": null,
   "id": "21d35e22-415c-4148-9ca3-e977a217072c",
   "metadata": {},
   "outputs": [],
   "source": []
  },
  {
   "cell_type": "code",
   "execution_count": null,
   "id": "1595f816-596d-46ea-aac7-2a2837fe6482",
   "metadata": {},
   "outputs": [],
   "source": []
  }
 ],
 "metadata": {
  "kernelspec": {
   "display_name": "Python 3",
   "language": "python",
   "name": "python3"
  },
  "language_info": {
   "codemirror_mode": {
    "name": "ipython",
    "version": 3
   },
   "file_extension": ".py",
   "mimetype": "text/x-python",
   "name": "python",
   "nbconvert_exporter": "python",
   "pygments_lexer": "ipython3",
   "version": "3.9.5"
  }
 },
 "nbformat": 4,
 "nbformat_minor": 5
}
